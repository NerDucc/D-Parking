{
  "cells": [
    {
      "cell_type": "markdown",
      "metadata": {
        "id": "view-in-github",
        "colab_type": "text"
      },
      "source": [
        "<a href=\"https://colab.research.google.com/github/NerDucc/D-Parking/blob/master/YoloV8.ipynb\" target=\"_parent\"><img src=\"https://colab.research.google.com/assets/colab-badge.svg\" alt=\"Open In Colab\"/></a>"
      ]
    },
    {
      "cell_type": "markdown",
      "metadata": {
        "id": "Dz44e7XDMA0b"
      },
      "source": [
        "# Install the code"
      ]
    },
    {
      "cell_type": "code",
      "execution_count": null,
      "metadata": {
        "id": "ou6B4LxeQXBk",
        "colab": {
          "base_uri": "https://localhost:8080/"
        },
        "outputId": "c341e06f-8f3a-4933-b53e-c574aac21138"
      },
      "outputs": [
        {
          "output_type": "stream",
          "name": "stdout",
          "text": [
            "Wed Feb 15 08:41:16 2023       \n",
            "+-----------------------------------------------------------------------------+\n",
            "| NVIDIA-SMI 510.47.03    Driver Version: 510.47.03    CUDA Version: 11.6     |\n",
            "|-------------------------------+----------------------+----------------------+\n",
            "| GPU  Name        Persistence-M| Bus-Id        Disp.A | Volatile Uncorr. ECC |\n",
            "| Fan  Temp  Perf  Pwr:Usage/Cap|         Memory-Usage | GPU-Util  Compute M. |\n",
            "|                               |                      |               MIG M. |\n",
            "|===============================+======================+======================|\n",
            "|   0  Tesla T4            Off  | 00000000:00:04.0 Off |                    0 |\n",
            "| N/A   63C    P0    25W /  70W |      0MiB / 15360MiB |      0%      Default |\n",
            "|                               |                      |                  N/A |\n",
            "+-------------------------------+----------------------+----------------------+\n",
            "                                                                               \n",
            "+-----------------------------------------------------------------------------+\n",
            "| Processes:                                                                  |\n",
            "|  GPU   GI   CI        PID   Type   Process name                  GPU Memory |\n",
            "|        ID   ID                                                   Usage      |\n",
            "|=============================================================================|\n",
            "|  No running processes found                                                 |\n",
            "+-----------------------------------------------------------------------------+\n"
          ]
        }
      ],
      "source": [
        "gpu_info = !nvidia-smi\n",
        "gpu_info = '\\n'.join(gpu_info)\n",
        "if gpu_info.find('failed') >= 0:\n",
        "  print('Not connected to a GPU')\n",
        "else:\n",
        "  print(gpu_info)"
      ]
    },
    {
      "cell_type": "code",
      "execution_count": null,
      "metadata": {
        "id": "IGwInxSxQa9F",
        "colab": {
          "base_uri": "https://localhost:8080/"
        },
        "outputId": "82514cb5-1374-4f6f-da70-5858ce25c793"
      },
      "outputs": [
        {
          "output_type": "stream",
          "name": "stdout",
          "text": [
            "Your runtime has 13.6 gigabytes of available RAM\n",
            "\n",
            "Not using a high-RAM runtime\n"
          ]
        }
      ],
      "source": [
        "from psutil import virtual_memory\n",
        "ram_gb = virtual_memory().total / 1e9\n",
        "print('Your runtime has {:.1f} gigabytes of available RAM\\n'.format(ram_gb))\n",
        "\n",
        "if ram_gb < 20:\n",
        "  print('Not using a high-RAM runtime')\n",
        "else:\n",
        "  print('You are using a high-RAM runtime!')"
      ]
    },
    {
      "cell_type": "markdown",
      "source": [
        "# Preprocessing code"
      ],
      "metadata": {
        "id": "pYUbCykJ7KPZ"
      }
    },
    {
      "cell_type": "code",
      "execution_count": null,
      "metadata": {
        "id": "c6wuIX7GMBMW"
      },
      "outputs": [],
      "source": [
        "!pip install ultralytics\n"
      ]
    },
    {
      "cell_type": "code",
      "execution_count": null,
      "metadata": {
        "id": "jQr-AQ4pMy5P",
        "colab": {
          "base_uri": "https://localhost:8080/"
        },
        "outputId": "206b5b72-777f-4fb8-daff-ff85b34c0534"
      },
      "outputs": [
        {
          "output_type": "stream",
          "name": "stdout",
          "text": [
            "Mounted at /content/gdrive\n"
          ]
        }
      ],
      "source": [
        "from google.colab import drive\n",
        "drive.mount(\"/content/gdrive\")"
      ]
    },
    {
      "cell_type": "code",
      "execution_count": null,
      "metadata": {
        "id": "44le5zuXM3Up",
        "colab": {
          "base_uri": "https://localhost:8080/"
        },
        "outputId": "9e93be7b-f9a3-4cce-a4cc-507d003e9ee8"
      },
      "outputs": [
        {
          "output_type": "stream",
          "name": "stdout",
          "text": [
            "/content/gdrive/MyDrive\n"
          ]
        }
      ],
      "source": [
        "%cd /content/gdrive/MyDrive"
      ]
    },
    {
      "cell_type": "code",
      "execution_count": null,
      "metadata": {
        "id": "D5FZE-OUNDzD"
      },
      "outputs": [],
      "source": [
        "import os\n",
        "if not os.path.isdir('PlateDetect-YoloV8'):\n",
        "  os.makedirs('PlateDetect-YoloV8')"
      ]
    },
    {
      "cell_type": "code",
      "execution_count": null,
      "metadata": {
        "colab": {
          "base_uri": "https://localhost:8080/"
        },
        "id": "5bMoXxHvNLlF",
        "outputId": "5b24e1a1-9cb5-47bc-985d-1eeb0c48827c"
      },
      "outputs": [
        {
          "output_type": "stream",
          "name": "stdout",
          "text": [
            "/content/gdrive/MyDrive/PlateDetect-YoloV8\n"
          ]
        }
      ],
      "source": [
        "%cd PlateDetect-YoloV8"
      ]
    },
    {
      "cell_type": "code",
      "execution_count": null,
      "metadata": {
        "colab": {
          "base_uri": "https://localhost:8080/",
          "height": 876
        },
        "id": "Crdlg53uP8TM",
        "outputId": "ff274fe7-d3f9-40fe-ba80-4625f2f33d9d"
      },
      "outputs": [
        {
          "output_type": "stream",
          "name": "stderr",
          "text": [
            "ERROR:root:Internal Python error in the inspect module.\n",
            "Below is the traceback from this internal error.\n",
            "\n"
          ]
        },
        {
          "output_type": "stream",
          "name": "stdout",
          "text": [
            "Traceback (most recent call last):\n",
            "  File \"/usr/local/lib/python3.8/dist-packages/IPython/core/interactiveshell.py\", line 3326, in run_code\n",
            "    exec(code_obj, self.user_global_ns, self.user_ns)\n",
            "  File \"<ipython-input-165-d3dc51b95a25>\", line 1, in <module>\n",
            "    get_ipython().run_line_magic('pwd', '')\n",
            "  File \"/usr/local/lib/python3.8/dist-packages/IPython/core/interactiveshell.py\", line 2314, in run_line_magic\n",
            "    result = fn(*args, **kwargs)\n",
            "  File \"<decorator-gen-84>\", line 2, in pwd\n",
            "  File \"/usr/local/lib/python3.8/dist-packages/IPython/core/magic.py\", line 187, in <lambda>\n",
            "    call = lambda f, *a, **k: f(*a, **k)\n",
            "  File \"/usr/local/lib/python3.8/dist-packages/IPython/core/magics/osm.py\", line 287, in pwd\n",
            "    return os.getcwd()\n",
            "OSError: [Errno 107] Transport endpoint is not connected\n",
            "\n",
            "During handling of the above exception, another exception occurred:\n",
            "\n",
            "Traceback (most recent call last):\n",
            "  File \"/usr/local/lib/python3.8/dist-packages/IPython/core/interactiveshell.py\", line 2040, in showtraceback\n",
            "    stb = value._render_traceback_()\n",
            "AttributeError: 'OSError' object has no attribute '_render_traceback_'\n",
            "\n",
            "During handling of the above exception, another exception occurred:\n",
            "\n",
            "Traceback (most recent call last):\n",
            "  File \"/usr/local/lib/python3.8/dist-packages/IPython/core/ultratb.py\", line 1101, in get_records\n",
            "    return _fixed_getinnerframes(etb, number_of_lines_of_context, tb_offset)\n",
            "  File \"/usr/local/lib/python3.8/dist-packages/IPython/core/ultratb.py\", line 319, in wrapped\n",
            "    return f(*args, **kwargs)\n",
            "  File \"/usr/local/lib/python3.8/dist-packages/IPython/core/ultratb.py\", line 353, in _fixed_getinnerframes\n",
            "    records = fix_frame_records_filenames(inspect.getinnerframes(etb, context))\n",
            "  File \"/usr/lib/python3.8/inspect.py\", line 1515, in getinnerframes\n",
            "    frameinfo = (tb.tb_frame,) + getframeinfo(tb, context)\n",
            "  File \"/usr/lib/python3.8/inspect.py\", line 1473, in getframeinfo\n",
            "    filename = getsourcefile(frame) or getfile(frame)\n",
            "  File \"/usr/lib/python3.8/inspect.py\", line 708, in getsourcefile\n",
            "    if getattr(getmodule(object, filename), '__loader__', None) is not None:\n",
            "  File \"/usr/lib/python3.8/inspect.py\", line 737, in getmodule\n",
            "    file = getabsfile(object, _filename)\n",
            "  File \"/usr/lib/python3.8/inspect.py\", line 721, in getabsfile\n",
            "    return os.path.normcase(os.path.abspath(_filename))\n",
            "  File \"/usr/lib/python3.8/posixpath.py\", line 379, in abspath\n",
            "    cwd = os.getcwd()\n",
            "OSError: [Errno 107] Transport endpoint is not connected\n"
          ]
        },
        {
          "output_type": "error",
          "ename": "OSError",
          "evalue": "ignored",
          "traceback": [
            "\u001b[0;31m---------------------------------------------------------------------------\u001b[0m"
          ]
        }
      ],
      "source": [
        "%pwd\n"
      ]
    },
    {
      "cell_type": "code",
      "execution_count": null,
      "metadata": {
        "id": "-O1n5BCUPsAh"
      },
      "outputs": [],
      "source": [
        "!echo 'train: /content/gdrive/MyDrive/PlateDetect-YoloV8/data/train' >> mydataset.yaml\n",
        "!echo 'val: /content/gdrive/MyDrive/PlateDetect-YoloV8/data/val' >> mydataset.yaml\n",
        "!echo 'nc: 1' >> mydataset.yaml\n",
        "!echo \"names: ['plate']\" >> mydataset.yaml"
      ]
    },
    {
      "cell_type": "markdown",
      "metadata": {
        "id": "KPVZVzI3MQMe"
      },
      "source": [
        "# Training the model\n"
      ]
    },
    {
      "cell_type": "markdown",
      "metadata": {
        "id": "_gwHUaUlQ7LB"
      },
      "source": [
        "## Import Yolov8 and using the yolov8m model"
      ]
    },
    {
      "cell_type": "code",
      "execution_count": null,
      "metadata": {
        "id": "ng6ns1lbMQsu"
      },
      "outputs": [],
      "source": [
        "from ultralytics import YOLO"
      ]
    },
    {
      "cell_type": "code",
      "source": [
        "model = YOLO(\"/content/gdrive/MyDrive/PlateDetect-YoloV8/runs/detect/train6/weights/best.pt\")"
      ],
      "metadata": {
        "id": "ZIcwLe4U8m9h"
      },
      "execution_count": null,
      "outputs": []
    },
    {
      "cell_type": "code",
      "execution_count": null,
      "metadata": {
        "id": "57luvNllTsHi",
        "colab": {
          "base_uri": "https://localhost:8080/",
          "height": 36
        },
        "outputId": "74677a49-2602-4200-8a99-3c1d7949fd20"
      },
      "outputs": [
        {
          "output_type": "execute_result",
          "data": {
            "text/plain": [
              "'/content/gdrive/MyDrive/PlateDetect-YoloV8'"
            ],
            "application/vnd.google.colaboratory.intrinsic+json": {
              "type": "string"
            }
          },
          "metadata": {},
          "execution_count": 13
        }
      ],
      "source": [
        "%pwd"
      ]
    },
    {
      "cell_type": "markdown",
      "metadata": {
        "id": "Au9wNNf4DpJI"
      },
      "source": [
        "## Training model (Epochs = 130, batch-size = 32)"
      ]
    },
    {
      "cell_type": "code",
      "source": [
        "results = model.train(data=\"data/mydataset.yaml\",batch=32, epochs=10)"
      ],
      "metadata": {
        "id": "Kgv1YU10IZUU"
      },
      "execution_count": null,
      "outputs": []
    },
    {
      "cell_type": "markdown",
      "source": [
        "## Continue training model (Epochs = 10, batch-size = 32)"
      ],
      "metadata": {
        "id": "f-jRULpCISu0"
      }
    },
    {
      "cell_type": "code",
      "execution_count": null,
      "metadata": {
        "id": "J0U23oaPRF_c"
      },
      "outputs": [],
      "source": [
        "results = model.train(data=\"data/mydataset.yaml\",batch=32, epochs=10)"
      ]
    },
    {
      "cell_type": "code",
      "source": [
        "train2_result = model.val(data=\"data/mydataset.yaml\")"
      ],
      "metadata": {
        "id": "VdBX28Gdao6Z"
      },
      "execution_count": null,
      "outputs": []
    },
    {
      "cell_type": "code",
      "source": [
        "train2_info = model.info(verbose=True)"
      ],
      "metadata": {
        "id": "aQC1YB84cKtq"
      },
      "execution_count": null,
      "outputs": []
    },
    {
      "cell_type": "markdown",
      "source": [
        "# Checking the matrix"
      ],
      "metadata": {
        "id": "wV-N-T0R89ok"
      }
    },
    {
      "cell_type": "code",
      "source": [
        "from IPython.display import display, Image\n",
        "from IPython import display"
      ],
      "metadata": {
        "id": "dB_cu5D5-9fh"
      },
      "execution_count": null,
      "outputs": []
    },
    {
      "cell_type": "code",
      "source": [
        "!ls /content/gdrive/MyDrive/PlateDetect-YoloV8/runs/detect/train6"
      ],
      "metadata": {
        "colab": {
          "base_uri": "https://localhost:8080/"
        },
        "id": "JoJ5JaIOAdC4",
        "outputId": "2d846aa7-d36c-4162-8e36-0edd16cde245"
      },
      "execution_count": null,
      "outputs": [
        {
          "output_type": "stream",
          "name": "stdout",
          "text": [
            "args.yaml\t\t\t\t\t   train_batch0.jpg\n",
            "confusion_matrix.png\t\t\t\t   train_batch1.jpg\n",
            "events.out.tfevents.1675828187.71a3d767cd63.873.1  train_batch2.jpg\n",
            "events.out.tfevents.1675828187.71a3d767cd63.873.2  val_batch0_labels.jpg\n",
            "F1_curve.png\t\t\t\t\t   val_batch0_pred.jpg\n",
            "P_curve.png\t\t\t\t\t   val_batch1_labels.jpg\n",
            "PR_curve.png\t\t\t\t\t   val_batch1_pred.jpg\n",
            "R_curve.png\t\t\t\t\t   val_batch2_labels.jpg\n",
            "results.csv\t\t\t\t\t   val_batch2_pred.jpg\n",
            "results.png\t\t\t\t\t   weights\n"
          ]
        }
      ]
    },
    {
      "cell_type": "code",
      "source": [
        "Image(filename=f'/content/gdrive/MyDrive/PlateDetect-YoloV8/runs/detect/val/confusion_matrix.png', width=600);"
      ],
      "metadata": {
        "id": "dZslp8O4_iNv"
      },
      "execution_count": null,
      "outputs": []
    },
    {
      "cell_type": "markdown",
      "source": [
        "# Processing \n"
      ],
      "metadata": {
        "id": "RO7sUCz86WP8"
      }
    },
    {
      "cell_type": "markdown",
      "source": [
        "## Label the object method"
      ],
      "metadata": {
        "id": "W3nW_qxN7i7H"
      }
    },
    {
      "cell_type": "code",
      "source": [
        "def box_label(image, box, label='', color=(128, 128, 128), txt_color=(255, 255, 255)): #das\n",
        "  lw = max(round(sum(image.shape) / 2 * 0.003), 2)\n",
        "  p1, p2 = (int(box[0]), int(box[1])), (int(box[2]), int(box[3]))\n",
        "  cv2.rectangle(image, p1, p2, color, thickness=lw, lineType=cv2.LINE_AA)\n",
        "  if label:\n",
        "    tf = max(lw - 1, 1)  # font thickness\n",
        "    w, h = cv2.getTextSize(label, 0, fontScale=lw / 3, thickness=tf)[0]  # text width, height\n",
        "    outside = p1[1] - h >= 3\n",
        "    p2 = p1[0] + w, p1[1] - h - 3 if outside else p1[1] + h + 3\n",
        "    cv2.rectangle(image, p1, p2, color, -1, cv2.LINE_AA)  # filled\n",
        "    cv2.putText(image,\n",
        "                label, (p1[0], p1[1] - 2 if outside else p1[1] + h + 2),\n",
        "                0,\n",
        "                lw / 3,\n",
        "                txt_color,\n",
        "                thickness=tf,\n",
        "                lineType=cv2.LINE_AA)"
      ],
      "metadata": {
        "id": "vzQL2Hou_du7"
      },
      "execution_count": null,
      "outputs": []
    },
    {
      "cell_type": "markdown",
      "source": [
        "## Plot the plate method"
      ],
      "metadata": {
        "id": "W3mnJ2jd7uGt"
      }
    },
    {
      "cell_type": "code",
      "source": [
        "def plot_bboxes(image, boxes, labels=[], colors=[], score=True, conf=None):\n",
        "  #Define COCO Labels\n",
        "  if labels == []:\n",
        "    labels = {0: u'__background__', 1: u'plate'}\n",
        "  #Define colors\n",
        "  if colors == []:\n",
        "    #colors = [(6, 112, 83), (253, 246, 160), (40, 132, 70), (205, 97, 162), (149, 196, 30), (106, 19, 161), (127, 175, 225), (115, 133, 176), (83, 156, 8), (182, 29, 77), (180, 11, 251), (31, 12, 123), (23, 6, 115), (167, 34, 31), (176, 216, 69), (110, 229, 222), (72, 183, 159), (90, 168, 209), (195, 4, 209), (135, 236, 21), (62, 209, 199), (87, 1, 70), (75, 40, 168), (121, 90, 126), (11, 86, 86), (40, 218, 53), (234, 76, 20), (129, 174, 192), (13, 18, 254), (45, 183, 149), (77, 234, 120), (182, 83, 207), (172, 138, 252), (201, 7, 159), (147, 240, 17), (134, 19, 233), (202, 61, 206), (177, 253, 26), (10, 139, 17), (130, 148, 106), (174, 197, 128), (106, 59, 168), (124, 180, 83), (78, 169, 4), (26, 79, 176), (185, 149, 150), (165, 253, 206), (220, 87, 0), (72, 22, 226), (64, 174, 4), (245, 131, 96), (35, 217, 142), (89, 86, 32), (80, 56, 196), (222, 136, 159), (145, 6, 219), (143, 132, 162), (175, 97, 221), (72, 3, 79), (196, 184, 237), (18, 210, 116), (8, 185, 81), (99, 181, 254), (9, 127, 123), (140, 94, 215), (39, 229, 121), (230, 51, 96), (84, 225, 33), (218, 202, 139), (129, 223, 182), (167, 46, 157), (15, 252, 5), (128, 103, 203), (197, 223, 199), (19, 238, 181), (64, 142, 167), (12, 203, 242), (69, 21, 41), (177, 184, 2), (35, 97, 56), (241, 22, 161)]\n",
        "    colors = [(89, 161, 197),(67, 161, 255),(19, 222, 24),(186, 55, 2),(167, 146, 11),(190, 76, 98),(130, 172, 179),(115, 209, 128),(204, 79, 135),(136, 126, 185),(209, 213, 45),(44, 52, 10),(101, 158, 121),(179, 124, 12),(25, 33, 189),(45, 115, 11),(73, 197, 184),(62, 225, 221),(32, 46, 52),(20, 165, 16),(54, 15, 57),(12, 150, 9),(10, 46, 99),(94, 89, 46),(48, 37, 106),(42, 10, 96),(7, 164, 128),(98, 213, 120),(40, 5, 219),(54, 25, 150),(251, 74, 172),(0, 236, 196),(21, 104, 190),(226, 74, 232),(120, 67, 25),(191, 106, 197),(8, 15, 134),(21, 2, 1),(142, 63, 109),(133, 148, 146),(187, 77, 253),(155, 22, 122),(218, 130, 77),(164, 102, 79),(43, 152, 125),(185, 124, 151),(95, 159, 238),(128, 89, 85),(228, 6, 60),(6, 41, 210),(11, 1, 133),(30, 96, 58),(230, 136, 109),(126, 45, 174),(164, 63, 165),(32, 111, 29),(232, 40, 70),(55, 31, 198),(148, 211, 129),(10, 186, 211),(181, 201, 94),(55, 35, 92),(129, 140, 233),(70, 250, 116),(61, 209, 152),(216, 21, 138),(100, 0, 176),(3, 42, 70),(151, 13, 44),(216, 102, 88),(125, 216, 93),(171, 236, 47),(253, 127, 103),(205, 137, 244),(193, 137, 224),(36, 152, 214),(17, 50, 238),(154, 165, 67),(114, 129, 60),(119, 24, 48),(73, 8, 110)]\n",
        "  \n",
        "  #plot each boxes\n",
        "  for box in boxes:\n",
        "    #add score in label if score=True\n",
        "    if score :\n",
        "      label = labels[int(box[-1])+1] + \" \" + str(round(100 * float(box[-2]),1)) + \"%\"\n",
        "    else :\n",
        "      label = labels[int(box[-1])+1]\n",
        "    #filter every box under conf threshold if conf threshold setted\n",
        "    if conf :\n",
        "      if box[-2] > conf:\n",
        "        color = colors[int(box[-1])]\n",
        "        box_label(image, box, label, color)\n",
        "    else:\n",
        "      color = colors[int(box[-1])]\n",
        "      box_label(image, box, label, color)\n",
        "\n",
        "  #show image\n",
        "  image = cv2.cvtColor(image, cv2.COLOR_BGR2RGB)\n",
        "  return image\n",
        "  "
      ],
      "metadata": {
        "id": "HrqawY7s_TMH"
      },
      "execution_count": null,
      "outputs": []
    },
    {
      "cell_type": "code",
      "source": [
        "import numpy as np\n",
        "from PIL import Image\n",
        "import requests\n",
        "from io import BytesIO\n",
        "import cv2\n",
        "from google.colab.patches import cv2_imshow"
      ],
      "metadata": {
        "id": "DD4bZVj56VLv"
      },
      "execution_count": null,
      "outputs": []
    },
    {
      "cell_type": "code",
      "source": [
        "# from paddleocr import PaddleOCR\n",
        "!pip install paddleocr --upgrade"
      ],
      "metadata": {
        "id": "VjVTg3xpOURw"
      },
      "execution_count": null,
      "outputs": []
    },
    {
      "cell_type": "code",
      "source": [
        "!pip install paddlepaddle"
      ],
      "metadata": {
        "id": "VNSDXMkiRSYV"
      },
      "execution_count": null,
      "outputs": []
    },
    {
      "cell_type": "code",
      "source": [
        "from paddleocr import PaddleOCR"
      ],
      "metadata": {
        "id": "pmGHAJHxOUab"
      },
      "execution_count": null,
      "outputs": []
    },
    {
      "cell_type": "code",
      "source": [
        "response = requests.get(\"https://tse4.mm.bing.net/th?id=OIP.oXOvgT-sC7opHaw2lkphLgHaFj&pid=Api&P=0\")\n",
        "image = Image.open(BytesIO(response.content))\n",
        "image = np.asarray(image)"
      ],
      "metadata": {
        "id": "NvnvrZDf-Mye"
      },
      "execution_count": null,
      "outputs": []
    },
    {
      "cell_type": "code",
      "source": [
        "results = model.predict(image)"
      ],
      "metadata": {
        "colab": {
          "base_uri": "https://localhost:8080/"
        },
        "id": "fBvhX500-aJY",
        "outputId": "5a41501f-5587-4c16-ebda-f6b127ff0578"
      },
      "execution_count": null,
      "outputs": [
        {
          "output_type": "stream",
          "name": "stderr",
          "text": [
            "\n",
            "0: 480x640 1 plate, 75.7ms\n",
            "Speed: 0.7ms pre-process, 75.7ms inference, 1.5ms postprocess per image at shape (1, 3, 640, 640)\n"
          ]
        }
      ]
    },
    {
      "cell_type": "markdown",
      "source": [
        "##Display the result"
      ],
      "metadata": {
        "id": "3xGELoDP79GA"
      }
    },
    {
      "cell_type": "code",
      "source": [
        "display = plot_bboxes(image, results[0].boxes.boxes, score=True)\n",
        "try:\n",
        "  import google.colab\n",
        "  IN_COLAB = True\n",
        "except:\n",
        "  IN_COLAB = False\n",
        "\n",
        "if IN_COLAB:\n",
        "  cv2_imshow(display) #if used in Colab\n",
        "else :\n",
        "  cv2.imshow(display) #if used in Python"
      ],
      "metadata": {
        "id": "P7nvF0-m-8S-"
      },
      "execution_count": null,
      "outputs": []
    },
    {
      "cell_type": "markdown",
      "source": [
        "## Crop the image"
      ],
      "metadata": {
        "id": "3N3eRY_38FdB"
      }
    },
    {
      "cell_type": "code",
      "source": [
        "def first_crop(img, results):\n",
        "  box = results[0].boxes.boxes.cpu().numpy().astype(int)\n",
        "\n",
        "  x1 = box[0][0]\n",
        "  y1 = box[0][1]\n",
        "  x2 = box[0][2]\n",
        "  y2 = box[0][3]\n",
        " \n",
        "  return image[y1:y2, x1:x2]"
      ],
      "metadata": {
        "id": "Tso0D8XvJ__6"
      },
      "execution_count": null,
      "outputs": []
    },
    {
      "cell_type": "markdown",
      "source": [
        "## Second crop for better result"
      ],
      "metadata": {
        "id": "Xt9GKN-X8JYu"
      }
    },
    {
      "cell_type": "code",
      "source": [
        "def secondCrop(img):\n",
        "    gray=cv2.cvtColor(img,cv2.COLOR_BGR2GRAY)\n",
        "    ret,thresh = cv2.threshold(gray,127,255,0)\n",
        "    contours,_ = cv2.findContours(thresh,cv2.RETR_LIST,cv2.CHAIN_APPROX_SIMPLE)\n",
        "    areas = [cv2.contourArea(c) for c in contours]\n",
        "    if(len(areas)!=0):\n",
        "        max_index = np.argmax(areas)\n",
        "        cnt=contours[max_index]\n",
        "        x,y,w,h = cv2.boundingRect(cnt)\n",
        "        bounds = cv2.boundingRect(cnt)\n",
        "        cv2.rectangle(img,(x,y),(x+w,y+h),(0,255,0),2)\n",
        "        secondCrop = img[y:y+h,x:x+w]\n",
        "    else:\n",
        "        secondCrop = img\n",
        "    return secondCrop"
      ],
      "metadata": {
        "id": "RTQF7PThL8B9"
      },
      "execution_count": null,
      "outputs": []
    },
    {
      "cell_type": "code",
      "source": [
        "firstCrop = first_crop(image, results)\n",
        "try:\n",
        "  import google.colab\n",
        "  IN_COLAB = True\n",
        "except:\n",
        "  IN_COLAB = False\n",
        "\n",
        "if IN_COLAB:\n",
        "  cv2_imshow(firstCrop) #if used in Colab\n",
        "else :\n",
        "  cv2.imshow(firstCrop) #if used in Python"
      ],
      "metadata": {
        "colab": {
          "base_uri": "https://localhost:8080/",
          "height": 123
        },
        "id": "95DNeFjBKZ-2",
        "outputId": "fd5848af-6245-4eae-c131-237c7eca1769"
      },
      "execution_count": null,
      "outputs": [
        {
          "output_type": "display_data",
          "data": {
            "text/plain": [
              "<PIL.Image.Image image mode=RGB size=147x106 at 0x7F66F4CDF160>"
            ],
            "image/png": "[encoded data removed]"
          },
          "metadata": {}
        }
      ]
    },
    {
      "cell_type": "code",
      "source": [
        "finalCrop = secondCrop(firstCrop)\n",
        "try:\n",
        "  import google.colab\n",
        "  IN_COLAB = True\n",
        "except:\n",
        "  IN_COLAB = False\n",
        "\n",
        "if IN_COLAB:\n",
        "  cv2_imshow(finalCrop) #if used in Colab\n",
        "else :\n",
        "  cv2.imshow(finalCrop) #if used in Python"
      ],
      "metadata": {
        "colab": {
          "base_uri": "https://localhost:8080/",
          "height": 120
        },
        "id": "YIOYMCl8MsWm",
        "outputId": "cd9992e6-7190-4375-b847-82013affe985"
      },
      "execution_count": null,
      "outputs": [
        {
          "output_type": "display_data",
          "data": {
            "text/plain": [
              "<PIL.Image.Image image mode=RGB size=139x103 at 0x7F6609AA0490>"
            ],
            "image/png": "[encoded data removed]"
          },
          "metadata": {}
        }
      ]
    },
    {
      "cell_type": "code",
      "source": [
        "ocr = PaddleOCR(use_angle_cls=True, lang='en')\n",
        "result = ocr.ocr(firstCrop, det=False, cls=False)\n",
        "for idx in range(len(result)):\n",
        "    res = result[idx]\n",
        "    for line in res:\n",
        "        print(line)"
      ],
      "metadata": {
        "colab": {
          "base_uri": "https://localhost:8080/"
        },
        "id": "sFOqrN6XRia6",
        "outputId": "9a100b23-e712-4ebd-af11-1eb498c54685"
      },
      "execution_count": null,
      "outputs": [
        {
          "output_type": "stream",
          "name": "stdout",
          "text": [
            "[2023/02/15 09:05:13] ppocr DEBUG: Namespace(alpha=1.0, benchmark=False, beta=1.0, cls_batch_num=6, cls_image_shape='3, 48, 192', cls_model_dir='/root/.paddleocr/whl/cls/ch_ppocr_mobile_v2.0_cls_infer', cls_thresh=0.9, cpu_threads=10, crop_res_save_dir='./output', det=True, det_algorithm='DB', det_box_type='quad', det_db_box_thresh=0.6, det_db_score_mode='fast', det_db_thresh=0.3, det_db_unclip_ratio=1.5, det_east_cover_thresh=0.1, det_east_nms_thresh=0.2, det_east_score_thresh=0.8, det_limit_side_len=960, det_limit_type='max', det_model_dir='/root/.paddleocr/whl/det/en/en_PP-OCRv3_det_infer', det_pse_box_thresh=0.85, det_pse_min_area=16, det_pse_scale=1, det_pse_thresh=0, det_sast_nms_thresh=0.2, det_sast_score_thresh=0.5, draw_img_save_dir='./inference_results', drop_score=0.5, e2e_algorithm='PGNet', e2e_char_dict_path='./ppocr/utils/ic15_dict.txt', e2e_limit_side_len=768, e2e_limit_type='max', e2e_model_dir=None, e2e_pgnet_mode='fast', e2e_pgnet_score_thresh=0.5, e2e_pgnet_valid_set='totaltext', enable_mkldnn=False, fourier_degree=5, gpu_mem=500, help='==SUPPRESS==', image_dir=None, image_orientation=False, ir_optim=True, kie_algorithm='LayoutXLM', label_list=['0', '180'], lang='en', layout=True, layout_dict_path=None, layout_model_dir=None, layout_nms_threshold=0.5, layout_score_threshold=0.5, max_batch_size=10, max_text_length=25, merge_no_span_structure=True, min_subgraph_size=15, mode='structure', ocr=True, ocr_order_method=None, ocr_version='PP-OCRv3', output='./output', page_num=0, precision='fp32', process_id=0, re_model_dir=None, rec=True, rec_algorithm='SVTR_LCNet', rec_batch_num=6, rec_char_dict_path='/usr/local/lib/python3.8/dist-packages/paddleocr/ppocr/utils/en_dict.txt', rec_image_inverse=True, rec_image_shape='3, 48, 320', rec_model_dir='/root/.paddleocr/whl/rec/en/en_PP-OCRv3_rec_infer', recovery=False, save_crop_res=False, save_log_path='./log_output/', scales=[8, 16, 32], ser_dict_path='../train_data/XFUND/class_list_xfun.txt', ser_model_dir=None, show_log=True, sr_batch_num=1, sr_image_shape='3, 32, 128', sr_model_dir=None, structure_version='PP-StructureV2', table=True, table_algorithm='TableAttn', table_char_dict_path=None, table_max_len=488, table_model_dir=None, total_process_num=1, type='ocr', use_angle_cls=True, use_dilation=False, use_gpu=False, use_mp=False, use_npu=False, use_onnx=False, use_pdf2docx_api=False, use_pdserving=False, use_space_char=True, use_tensorrt=False, use_visual_backbone=True, use_xpu=False, vis_font_path='./doc/fonts/simfang.ttf', warmup=False)\n",
            "('2.22', 0.6258655786514282)\n"
          ]
        }
      ]
    },
    {
      "cell_type": "code",
      "source": [],
      "metadata": {
        "id": "FEXGkVkLZ6wf"
      },
      "execution_count": null,
      "outputs": []
    }
  ],
  "metadata": {
    "colab": {
      "provenance": [],
      "authorship_tag": "ABX9TyPAQ3QKEAFwXk+ZD5E7vmty",
      "include_colab_link": true
    },
    "gpuClass": "standard",
    "kernelspec": {
      "display_name": "Python 3",
      "name": "python3"
    },
    "language_info": {
      "name": "python"
    },
    "accelerator": "GPU"
  },
  "nbformat": 4,
  "nbformat_minor": 0
}